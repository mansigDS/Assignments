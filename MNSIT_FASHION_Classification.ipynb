{
  "nbformat": 4,
  "nbformat_minor": 0,
  "metadata": {
    "colab": {
      "name": "MNSIT-FASHION Classification.ipynb",
      "provenance": [],
      "collapsed_sections": [],
      "authorship_tag": "ABX9TyN3ZMCCDc7IxJa+qhRfyzjv",
      "include_colab_link": true
    },
    "kernelspec": {
      "name": "python3",
      "display_name": "Python 3"
    }
  },
  "cells": [
    {
      "cell_type": "markdown",
      "metadata": {
        "id": "view-in-github",
        "colab_type": "text"
      },
      "source": [
        "<a href=\"https://colab.research.google.com/github/mansigDS/Assignments/blob/master/MNSIT_FASHION_Classification.ipynb\" target=\"_parent\"><img src=\"https://colab.research.google.com/assets/colab-badge.svg\" alt=\"Open In Colab\"/></a>"
      ]
    },
    {
      "cell_type": "code",
      "metadata": {
        "id": "DcvNYdPYTBG4",
        "colab_type": "code",
        "colab": {}
      },
      "source": [
        "import numpy as np\n",
        "import pandas as pd\n",
        "from sklearn.preprocessing import OneHotEncoder\n",
        "from sklearn.utils import class_weight\n",
        "import tensorflow as tf\n",
        "from tensorflow.keras.models import Model\n",
        "from tensorflow.keras.layers import Input, Dense,Dropout,Flatten,Conv2D,MaxPooling2D\n"
      ],
      "execution_count": 0,
      "outputs": []
    },
    {
      "cell_type": "code",
      "metadata": {
        "id": "hBMjj4cgVBxk",
        "colab_type": "code",
        "colab": {}
      },
      "source": [
        "(x_train, y_train), (x_test, y_test) = tf.keras.datasets.fashion_mnist.load_data()"
      ],
      "execution_count": 0,
      "outputs": []
    },
    {
      "cell_type": "code",
      "metadata": {
        "id": "dGmb2fG7VB0n",
        "colab_type": "code",
        "colab": {
          "base_uri": "https://localhost:8080/",
          "height": 91
        },
        "outputId": "ad1fd35c-cecf-486d-d094-100a30d1c3b8"
      },
      "source": [
        "print(x_train.shape)\n",
        "print(y_train.shape)\n",
        "print(x_test.shape)\n",
        "print(y_test.shape)"
      ],
      "execution_count": 25,
      "outputs": [
        {
          "output_type": "stream",
          "text": [
            "(60000, 28, 28)\n",
            "(60000,)\n",
            "(10000, 28, 28)\n",
            "(10000,)\n"
          ],
          "name": "stdout"
        }
      ]
    },
    {
      "cell_type": "code",
      "metadata": {
        "id": "_qctlidAVB4C",
        "colab_type": "code",
        "colab": {
          "base_uri": "https://localhost:8080/",
          "height": 91
        },
        "outputId": "f491e9cc-3178-4e46-b3ab-d8ed6a982cbc"
      },
      "source": [
        "x_train=np.array(x_train).reshape(-1,784)/255\n",
        "x_test=np.array(x_test).reshape(-1,784)/255\n",
        "y_train=np.array(y_train).reshape(-1,1)\n",
        "y_test=np.array(y_test).reshape(-1,1)\n",
        "print(x_train.shape)\n",
        "print(y_train.shape)\n",
        "print(x_test.shape)\n",
        "print(y_test.shape)"
      ],
      "execution_count": 26,
      "outputs": [
        {
          "output_type": "stream",
          "text": [
            "(60000, 784)\n",
            "(60000, 1)\n",
            "(10000, 784)\n",
            "(10000, 1)\n"
          ],
          "name": "stdout"
        }
      ]
    },
    {
      "cell_type": "code",
      "metadata": {
        "id": "uqttl6kLVB7F",
        "colab_type": "code",
        "colab": {}
      },
      "source": [
        "onehot=OneHotEncoder()\n",
        "onehot.fit(y_train)\n",
        "y_train=onehot.transform(y_train).toarray()\n",
        "y_test=onehot.transform(y_test).toarray()"
      ],
      "execution_count": 0,
      "outputs": []
    },
    {
      "cell_type": "code",
      "metadata": {
        "id": "UITrsWrWVB-y",
        "colab_type": "code",
        "colab": {
          "base_uri": "https://localhost:8080/",
          "height": 91
        },
        "outputId": "6a43ced3-acdd-40f4-98a7-3c90d5ef31dd"
      },
      "source": [
        "x_train=x_train.reshape(60000,  28, 28,1).astype('float32')\n",
        "x_test=x_test.reshape(10000, 28, 28,1).astype('float32')\n",
        "print(x_train.shape)\n",
        "print(y_train.shape)\n",
        "print(x_test.shape)\n",
        "print(y_test.shape)"
      ],
      "execution_count": 36,
      "outputs": [
        {
          "output_type": "stream",
          "text": [
            "(60000, 28, 28, 1)\n",
            "(60000, 10)\n",
            "(10000, 28, 28, 1)\n",
            "(10000, 10)\n"
          ],
          "name": "stdout"
        }
      ]
    },
    {
      "cell_type": "code",
      "metadata": {
        "id": "EPE-_cgoVCB4",
        "colab_type": "code",
        "colab": {}
      },
      "source": [
        "image=Input(shape=(28,28,1))\n",
        "conv1=Conv2D(32,(3,3),padding='same', activation='relu')(image)\n",
        "pool1=MaxPooling2D(pool_size=(2,2))(conv1)\n",
        "\n",
        "conv2=Conv2D(64,(3,3),padding='same', activation='relu')(pool1)\n",
        "pool2=MaxPooling2D(pool_size=(2,2))(conv2)\n",
        "\n",
        "conv3=Conv2D(128,(3,3),padding='same', activation='relu')(pool2)\n",
        "pool3=MaxPooling2D(pool_size=(2,2))(conv3)\n",
        "\n",
        "flat=Flatten()(pool3)\n",
        "\n",
        "dense1=Dense(2084, activation='relu')(flat)\n",
        "drop1=Dropout(rate=0.2)(dense1)\n",
        "\n",
        "dense2=Dense(1024, activation='relu')(drop1)\n",
        "drop2=Dropout(rate=0.2)(dense2)\n",
        "\n",
        "dense3=Dense(200, activation='relu')(drop2)\n",
        "drop3=Dropout(rate=0.2)(dense3)\n",
        "\n",
        "output=Dense(10,activation='softmax')(drop3)\n",
        "model=Model(inputs=image, outputs=output)"
      ],
      "execution_count": 0,
      "outputs": []
    },
    {
      "cell_type": "code",
      "metadata": {
        "id": "wE-MgSNDVCFD",
        "colab_type": "code",
        "colab": {
          "base_uri": "https://localhost:8080/",
          "height": 719
        },
        "outputId": "070896c6-1717-4b3c-b8b6-915cc888f20c"
      },
      "source": [
        "model.summary()"
      ],
      "execution_count": 38,
      "outputs": [
        {
          "output_type": "stream",
          "text": [
            "Model: \"model_1\"\n",
            "_________________________________________________________________\n",
            "Layer (type)                 Output Shape              Param #   \n",
            "=================================================================\n",
            "input_2 (InputLayer)         [(None, 28, 28, 1)]       0         \n",
            "_________________________________________________________________\n",
            "conv2d_3 (Conv2D)            (None, 28, 28, 32)        320       \n",
            "_________________________________________________________________\n",
            "max_pooling2d_3 (MaxPooling2 (None, 14, 14, 32)        0         \n",
            "_________________________________________________________________\n",
            "conv2d_4 (Conv2D)            (None, 14, 14, 64)        18496     \n",
            "_________________________________________________________________\n",
            "max_pooling2d_4 (MaxPooling2 (None, 7, 7, 64)          0         \n",
            "_________________________________________________________________\n",
            "conv2d_5 (Conv2D)            (None, 7, 7, 128)         73856     \n",
            "_________________________________________________________________\n",
            "max_pooling2d_5 (MaxPooling2 (None, 3, 3, 128)         0         \n",
            "_________________________________________________________________\n",
            "flatten_1 (Flatten)          (None, 1152)              0         \n",
            "_________________________________________________________________\n",
            "dense_4 (Dense)              (None, 2084)              2402852   \n",
            "_________________________________________________________________\n",
            "dropout_3 (Dropout)          (None, 2084)              0         \n",
            "_________________________________________________________________\n",
            "dense_5 (Dense)              (None, 1024)              2135040   \n",
            "_________________________________________________________________\n",
            "dropout_4 (Dropout)          (None, 1024)              0         \n",
            "_________________________________________________________________\n",
            "dense_6 (Dense)              (None, 200)               205000    \n",
            "_________________________________________________________________\n",
            "dropout_5 (Dropout)          (None, 200)               0         \n",
            "_________________________________________________________________\n",
            "dense_7 (Dense)              (None, 10)                2010      \n",
            "=================================================================\n",
            "Total params: 4,837,574\n",
            "Trainable params: 4,837,574\n",
            "Non-trainable params: 0\n",
            "_________________________________________________________________\n"
          ],
          "name": "stdout"
        }
      ]
    },
    {
      "cell_type": "code",
      "metadata": {
        "id": "waPFyoiZgKTr",
        "colab_type": "code",
        "colab": {
          "base_uri": "https://localhost:8080/",
          "height": 1000
        },
        "outputId": "074c3699-6eb1-4886-dc27-3ecead5104f1"
      },
      "source": [
        "from tensorflow.keras.utils import plot_model\n",
        "plot_model(model)\n"
      ],
      "execution_count": 39,
      "outputs": [
        {
          "output_type": "execute_result",
          "data": {
            "image/png": "[encoded data removed]",
            "text/plain": [
              "<IPython.core.display.Image object>"
            ]
          },
          "metadata": {
            "tags": []
          },
          "execution_count": 39
        }
      ]
    },
    {
      "cell_type": "code",
      "metadata": {
        "id": "gIbfJpYSge6q",
        "colab_type": "code",
        "colab": {}
      },
      "source": [
        "# Compile model\n",
        "model.compile(loss='categorical_crossentropy', optimizer='adam', \n",
        "              metrics=['accuracy'])"
      ],
      "execution_count": 0,
      "outputs": []
    },
    {
      "cell_type": "code",
      "metadata": {
        "id": "d-BPQuvEgalV",
        "colab_type": "code",
        "colab": {
          "base_uri": "https://localhost:8080/",
          "height": 405
        },
        "outputId": "38ff69a0-bcfb-4b64-e835-e8a6f647fcdc"
      },
      "source": [
        "model.fit(x_train,y_train,validation_data=[x_test,y_test],\n",
        "         epochs=50,batch_size=100,verbose=1)"
      ],
      "execution_count": 42,
      "outputs": [
        {
          "output_type": "stream",
          "text": [
            "Epoch 1/10\n",
            "600/600 [==============================] - 140s 234ms/step - loss: 0.2689 - accuracy: 0.9013 - val_loss: 0.0000e+00 - val_accuracy: 0.0000e+00\n",
            "Epoch 2/10\n",
            "600/600 [==============================] - 139s 232ms/step - loss: 0.2313 - accuracy: 0.9151 - val_loss: 0.0000e+00 - val_accuracy: 0.0000e+00\n",
            "Epoch 3/10\n",
            "600/600 [==============================] - 142s 237ms/step - loss: 0.2047 - accuracy: 0.9238 - val_loss: 0.0000e+00 - val_accuracy: 0.0000e+00\n",
            "Epoch 4/10\n",
            "600/600 [==============================] - 137s 228ms/step - loss: 0.1824 - accuracy: 0.9333 - val_loss: 0.0000e+00 - val_accuracy: 0.0000e+00\n",
            "Epoch 5/10\n",
            "600/600 [==============================] - 137s 228ms/step - loss: 0.1680 - accuracy: 0.9380 - val_loss: 0.0000e+00 - val_accuracy: 0.0000e+00\n",
            "Epoch 6/10\n",
            "600/600 [==============================] - 138s 229ms/step - loss: 0.1490 - accuracy: 0.9454 - val_loss: 0.0000e+00 - val_accuracy: 0.0000e+00\n",
            "Epoch 7/10\n",
            "600/600 [==============================] - 143s 238ms/step - loss: 0.1378 - accuracy: 0.9477 - val_loss: 0.0000e+00 - val_accuracy: 0.0000e+00\n",
            "Epoch 8/10\n",
            "600/600 [==============================] - 138s 229ms/step - loss: 0.1225 - accuracy: 0.9549 - val_loss: 0.0000e+00 - val_accuracy: 0.0000e+00\n",
            "Epoch 9/10\n",
            "600/600 [==============================] - 138s 230ms/step - loss: 0.1106 - accuracy: 0.9581 - val_loss: 0.0000e+00 - val_accuracy: 0.0000e+00\n",
            "Epoch 10/10\n",
            "600/600 [==============================] - 138s 229ms/step - loss: 0.1003 - accuracy: 0.9627 - val_loss: 0.0000e+00 - val_accuracy: 0.0000e+00\n"
          ],
          "name": "stdout"
        },
        {
          "output_type": "execute_result",
          "data": {
            "text/plain": [
              "<tensorflow.python.keras.callbacks.History at 0x7fbae14455f8>"
            ]
          },
          "metadata": {
            "tags": []
          },
          "execution_count": 42
        }
      ]
    },
    {
      "cell_type": "code",
      "metadata": {
        "id": "fzHgDzrPiTVU",
        "colab_type": "code",
        "colab": {}
      },
      "source": [
        "from tensorflow.keras.callbacks import ModelCheckpoint\n",
        "from tensorflow.keras.callbacks import EarlyStopping\n",
        "import os\n",
        "outputFolder = './fashionMNIST_output'\n",
        "if not os.path.exists(outputFolder):\n",
        "    os.makedirs(outputFolder)"
      ],
      "execution_count": 0,
      "outputs": []
    },
    {
      "cell_type": "code",
      "metadata": {
        "id": "Y8-y967giTY_",
        "colab_type": "code",
        "colab": {
          "base_uri": "https://localhost:8080/",
          "height": 35
        },
        "outputId": "89a5627f-97f7-4f93-bf7e-a067ae657437"
      },
      "source": [
        "filepath=outputFolder+\"/weights-{epoch:02d}-{accuracy:.4f}.h5\"\n",
        "checkpoint = ModelCheckpoint(filepath, monitor='accuracy', \n",
        "                             verbose=1, \n",
        "                             save_best_only=True, \n",
        "                             save_weights_only=True, \n",
        "                             mode='auto', period=5)\n",
        "\n",
        "# this will save the weights every 5 epoch"
      ],
      "execution_count": 44,
      "outputs": [
        {
          "output_type": "stream",
          "text": [
            "WARNING:tensorflow:`period` argument is deprecated. Please use `save_freq` to specify the frequency in number of batches seen.\n"
          ],
          "name": "stdout"
        }
      ]
    },
    {
      "cell_type": "code",
      "metadata": {
        "id": "jLcYYYFfiTcl",
        "colab_type": "code",
        "colab": {}
      },
      "source": [
        "earlystop = EarlyStopping(monitor='loss', \n",
        "                          min_delta=0.01, patience=5,\n",
        "                          verbose=1, mode='auto')"
      ],
      "execution_count": 0,
      "outputs": []
    },
    {
      "cell_type": "code",
      "metadata": {
        "id": "9ErrFGSgiTgA",
        "colab_type": "code",
        "colab": {}
      },
      "source": [
        "from tensorflow.keras.callbacks import Callback\n",
        "from sklearn.metrics import roc_auc_score"
      ],
      "execution_count": 0,
      "outputs": []
    },
    {
      "cell_type": "code",
      "metadata": {
        "id": "XpztqZM2iT5s",
        "colab_type": "code",
        "colab": {}
      },
      "source": [
        "class my_custom_callback(Callback):\n",
        "    # There are multiple actions that you can take at various stages of model fitting process\n",
        "    # Those functions are commented out right now, but if you want you can add actions\n",
        "    # I have added a auc score calcualtion at every epoch's end\n",
        "    \n",
        "    def __init__(self,features,target):\n",
        "        self.test_data=(features,target)\n",
        "    \n",
        "    \n",
        "        \n",
        "\n",
        "    def on_epoch_end(self, epoch, logs=None):\n",
        "        y_pred = self.model.predict(self.test_data[0])\n",
        "        auc=roc_auc_score(self.test_data[1], y_pred)\n",
        "        print(' \\n auc score for validation data :',auc,'\\n')\n",
        "        return\n",
        "    \n",
        "#     def on_train_begin(self,logs={}):\n",
        "#         return\n",
        "#     def on_train_end(self, logs={}):\n",
        "#         return\n",
        "\n",
        "#     def on_epoch_begin(self, epoch, logs={}):\n",
        "#         return\n",
        "\n",
        "#     def on_batch_begin(self, batch, logs={}):\n",
        "#         return\n",
        "\n",
        "#     def on_batch_end(self, batch, logs={}):\n",
        "#         return"
      ],
      "execution_count": 0,
      "outputs": []
    },
    {
      "cell_type": "code",
      "metadata": {
        "id": "wbCMvc-wgjgq",
        "colab_type": "code",
        "colab": {
          "base_uri": "https://localhost:8080/",
          "height": 1000
        },
        "outputId": "2803560a-63e9-48a9-e6f5-e3bfba90950f"
      },
      "source": [
        "mycallback=my_custom_callback(x_test,y_test)\n",
        "model.fit(x_train,y_train,\n",
        "          #class_weight=class_weight_dict,\n",
        "          epochs=200,\n",
        "          batch_size=1000,verbose=1,\n",
        "          callbacks=[mycallback,earlystop,checkpoint]\n",
        "         )"
      ],
      "execution_count": 53,
      "outputs": [
        {
          "output_type": "stream",
          "text": [
            "Epoch 1/200\n",
            "60/60 [==============================] - ETA: 0s - loss: 0.0581 - accuracy: 0.9786 \n",
            " auc score for validation data : 0.9950957333333333 \n",
            "\n",
            "60/60 [==============================] - 116s 2s/step - loss: 0.0581 - accuracy: 0.9786\n",
            "Epoch 2/200\n",
            "60/60 [==============================] - ETA: 0s - loss: 0.0366 - accuracy: 0.9857 \n",
            " auc score for validation data : 0.9949451888888889 \n",
            "\n",
            "60/60 [==============================] - 120s 2s/step - loss: 0.0366 - accuracy: 0.9857\n",
            "Epoch 3/200\n",
            "60/60 [==============================] - ETA: 0s - loss: 0.0280 - accuracy: 0.9894 \n",
            " auc score for validation data : 0.994864722222222 \n",
            "\n",
            "60/60 [==============================] - 115s 2s/step - loss: 0.0280 - accuracy: 0.9894\n",
            "Epoch 4/200\n",
            "60/60 [==============================] - ETA: 0s - loss: 0.0227 - accuracy: 0.9915 \n",
            " auc score for validation data : 0.9945867277777779 \n",
            "\n",
            "60/60 [==============================] - 116s 2s/step - loss: 0.0227 - accuracy: 0.9915\n",
            "Epoch 5/200\n",
            "60/60 [==============================] - ETA: 0s - loss: 0.0182 - accuracy: 0.9934 \n",
            " auc score for validation data : 0.9943805388888889 \n",
            "\n",
            "\n",
            "Epoch 00005: accuracy improved from -inf to 0.99343, saving model to ./fashionMNIST_output/weights-05-0.9934.h5\n",
            "60/60 [==============================] - 116s 2s/step - loss: 0.0182 - accuracy: 0.9934\n",
            "Epoch 6/200\n",
            "60/60 [==============================] - ETA: 0s - loss: 0.0150 - accuracy: 0.9948 \n",
            " auc score for validation data : 0.9943197444444444 \n",
            "\n",
            "60/60 [==============================] - 116s 2s/step - loss: 0.0150 - accuracy: 0.9948\n",
            "Epoch 7/200\n",
            "60/60 [==============================] - ETA: 0s - loss: 0.0120 - accuracy: 0.9959 \n",
            " auc score for validation data : 0.9943424000000001 \n",
            "\n",
            "60/60 [==============================] - 121s 2s/step - loss: 0.0120 - accuracy: 0.9959\n",
            "Epoch 8/200\n",
            "60/60 [==============================] - ETA: 0s - loss: 0.0098 - accuracy: 0.9965 \n",
            " auc score for validation data : 0.9941592388888889 \n",
            "\n",
            "60/60 [==============================] - 115s 2s/step - loss: 0.0098 - accuracy: 0.9965\n",
            "Epoch 9/200\n",
            "60/60 [==============================] - ETA: 0s - loss: 0.0081 - accuracy: 0.9972 \n",
            " auc score for validation data : 0.9942968888888888 \n",
            "\n",
            "60/60 [==============================] - 115s 2s/step - loss: 0.0081 - accuracy: 0.9972\n",
            "Epoch 10/200\n",
            "60/60 [==============================] - ETA: 0s - loss: 0.0065 - accuracy: 0.9978 \n",
            " auc score for validation data : 0.9942865833333334 \n",
            "\n",
            "\n",
            "Epoch 00010: accuracy improved from 0.99343 to 0.99782, saving model to ./fashionMNIST_output/weights-10-0.9978.h5\n",
            "60/60 [==============================] - 115s 2s/step - loss: 0.0065 - accuracy: 0.9978\n",
            "Epoch 11/200\n",
            "60/60 [==============================] - ETA: 0s - loss: 0.0062 - accuracy: 0.9979 \n",
            " auc score for validation data : 0.9942167999999999 \n",
            "\n",
            "60/60 [==============================] - 115s 2s/step - loss: 0.0062 - accuracy: 0.9979\n",
            "Epoch 12/200\n",
            "60/60 [==============================] - ETA: 0s - loss: 0.0062 - accuracy: 0.9979 \n",
            " auc score for validation data : 0.9941963999999999 \n",
            "\n",
            "60/60 [==============================] - 120s 2s/step - loss: 0.0062 - accuracy: 0.9979\n",
            "Epoch 00012: early stopping\n"
          ],
          "name": "stdout"
        },
        {
          "output_type": "execute_result",
          "data": {
            "text/plain": [
              "<tensorflow.python.keras.callbacks.History at 0x7fbadad6aa20>"
            ]
          },
          "metadata": {
            "tags": []
          },
          "execution_count": 53
        }
      ]
    },
    {
      "cell_type": "code",
      "metadata": {
        "id": "QuC4D-HzySLL",
        "colab_type": "code",
        "colab": {}
      },
      "source": [
        ""
      ],
      "execution_count": 0,
      "outputs": []
    },
    {
      "cell_type": "code",
      "metadata": {
        "id": "kblvSo_V6hHe",
        "colab_type": "code",
        "colab": {}
      },
      "source": [
        ""
      ],
      "execution_count": 0,
      "outputs": []
    }
  ]
}